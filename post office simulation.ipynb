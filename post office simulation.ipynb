{
 "cells": [
  {
   "cell_type": "markdown",
   "id": "678d51da-1bf9-445b-be74-4af785880ffd",
   "metadata": {},
   "source": [
    "# Post Office Simulation"
   ]
  },
  {
   "cell_type": "markdown",
   "id": "b6a36b95-0e10-4f00-8375-96ca8027a0ef",
   "metadata": {},
   "source": [
    "## Problem Statement\n",
    "\n",
    "A post office has a window with one worker. The window is (open/busy/closed)\n",
    "\n",
    "The window opens and closes  several times through the day with a pre-ahead schedule to makethe worker work in internal office work.\n",
    "\n",
    "If the worker is serving one customer then the window is busy till he finishes.  \n",
    "\n",
    "If a customer come during the window is closed or busy , then he waits in the queue.\n",
    "\n",
    "The goal is to optimize the open/close schedule (time and duration).\n",
    "\n",
    "Model the behavior of this system.  \n",
    "\n",
    "Report the average waiting time in the system.  \n",
    "\n",
    "Make any reasonable assumptions if needed.\n"
   ]
  },
  {
   "cell_type": "markdown",
   "id": "a86c83fa-2846-4e22-ae8b-9082a92e0300",
   "metadata": {},
   "source": [
    "We will do some needed imports"
   ]
  },
  {
   "cell_type": "code",
   "execution_count": 1,
   "id": "8db9318e-f018-463d-bac6-cf9756bb7b3b",
   "metadata": {},
   "outputs": [],
   "source": [
    "import heapq\n",
    "import numpy as np\n",
    "import collections"
   ]
  },
  {
   "cell_type": "markdown",
   "id": "b226ace7-a1b6-4707-977e-e0703992bfef",
   "metadata": {},
   "source": [
    "We define the state class which is responsible for handling all entities states"
   ]
  },
  {
   "cell_type": "code",
   "execution_count": 2,
   "id": "eeef928e-ffa1-458f-8f67-2ffcf9ea7156",
   "metadata": {},
   "outputs": [],
   "source": [
    "MAX_TIME = 10000\n",
    "DELAY = 0\n",
    "class State: # the state of the post office window\n",
    "    def __init__(self): # initialization function\n",
    "        self.window_state = 0 # 0 for closed, 1 for open, 2 for busy\n",
    "        self.last_event_time = 0\n",
    "        self.current_event_time = 0\n",
    "        self.window_close_time = MAX_TIME\n",
    "        self.current_job_finish_time = MAX_TIME\n",
    "        self.waiting_queue = collections.deque()\n",
    "        self.waiting_customers = 0\n",
    "        self.total_customers_served = 0\n",
    "        self.total_waiting_time = 0\n",
    "        \n",
    "    # Entity-related states\n",
    "    def current_window_state(self): # get current state of the window\n",
    "        return self.window_state\n",
    "    def add_customer(self, customer): # add a customer to the queue\n",
    "        self.waiting_queue.append(customer)\n",
    "        self.increment_total_customers_served()\n",
    "    def remove_customer(self): # remove the customer from the waiting queue and calculate his waiting time\n",
    "        x = self.waiting_queue.popleft()\n",
    "        self.update_total_waiting_time(x[0], x[1] + self.get_current_event_time()) # x[0] is the time of arrival of the customer\n",
    "    def close_window(self): # make the window closed\n",
    "        self.window_state = 0\n",
    "    def open_window(self): # make the window opened\n",
    "        self.window_state = 1\n",
    "    def busy_window(self): # make the window busy\n",
    "        self.window_state = 2\n",
    "\n",
    "    # Needed Time Parameters\n",
    "    def update_time_parameters(self, time):\n",
    "        self.last_event_time = self.current_event_time\n",
    "        self.current_event_time = time\n",
    "    def get_last_event_time(self):\n",
    "        return self.last_event_time\n",
    "    def get_current_event_time(self):\n",
    "        return self.current_event_time\n",
    "    \n",
    "    def set_window_close_time(self, time):\n",
    "        self.window_close_time = time\n",
    "    def get_window_close_time(self):\n",
    "        return self.window_close_time\n",
    "\n",
    "    def set_current_job_finish_time(self, time):\n",
    "        self.current_job_finish_time = time\n",
    "    def get_current_job_finish_time(self):\n",
    "        return self.current_job_finish_time\n",
    " \n",
    "    # Statistics Collection\n",
    "    def update_total_waiting_time(self, time1, time3):\n",
    "        self.total_waiting_time += (time3 - time1)\n",
    "    def get_total_waiting_time(self):\n",
    "        return self.total_waiting_time\n",
    "    \n",
    "    def increment_total_customers_served(self):\n",
    "        self.total_customers_served += 1\n",
    "    def get_total_customers_served(self):\n",
    "        return self.total_customers_served\n",
    "    def get_waiting_customers(self):\n",
    "        self.waiting_customers = len(self.waiting_queue)\n",
    "        return self.waiting_customers\n",
    "    def __str__(self):\n",
    "        print(\"\")"
   ]
  },
  {
   "cell_type": "markdown",
   "id": "91efa1d5-faae-41d9-baa6-066cd4353f42",
   "metadata": {},
   "source": [
    "Now, we define the Event class, the parent class of all events"
   ]
  },
  {
   "cell_type": "code",
   "execution_count": 3,
   "id": "e999ea49-f968-48ab-8f5a-b5a7e07befd4",
   "metadata": {},
   "outputs": [],
   "source": [
    "class Event:\n",
    "    def start_time(self):\n",
    "        return self.t1\n",
    "    def service_time(self):\n",
    "        return self.t2\n",
    "    def __str__(self):\n",
    "        return self.name + \"(\" + str(self.t1) + \", \" + str(self.t2) + \")\"\n",
    "    def __lt__(self, other):\n",
    "        return self.t1 < other.t1"
   ]
  },
  {
   "cell_type": "markdown",
   "id": "9b9ba706-007b-47ba-a161-2b81a2f2e91d",
   "metadata": {},
   "source": [
    "The customer arrival event is defined below  \n",
    "For a customer, t1 defines the arrival time, and t2 defines the time he takes to be served\n",
    "\n",
    "Note: For any event, t1 represents the time at which the event starts, and t2 represents the duration which it lasts  \n"
   ]
  },
  {
   "cell_type": "code",
   "execution_count": 4,
   "id": "5c2934af-b7b4-474e-b7cd-d39090bb23f3",
   "metadata": {},
   "outputs": [],
   "source": [
    "class CUSTOMER(Event):\n",
    "    def __init__(self, time1, time2):\n",
    "        self.t1 = time1\n",
    "        self.t2 = time2\n",
    "        self.name = \"CUSTOMER\"\n",
    "    def action(self, queue, state):\n",
    "        state.update_time_parameters(self.t1)\n",
    "        if state.current_window_state() == 1: # if a customer arrives and the window is opened, then serve the customer immediately; for modularity and generality,\n",
    "            #  I made it like he goes to the wait queue and waits for zero additional time\n",
    "            queue.insert(SERVE(self.t1 + DELAY, self.t2)) \n",
    "        else: # if the window is closed or busy, add the customer to the waiting list\n",
    "            state.add_customer((self.t1, self.t2))"
   ]
  },
  {
   "cell_type": "markdown",
   "id": "a113fa1e-6634-4128-9e11-c9d40146ba2e",
   "metadata": {},
   "source": [
    "The Window Opening class, inheriting from Event class  \n",
    "For a window, t1 defines the time from which it is opened, and t2 defines the times for which it is open"
   ]
  },
  {
   "cell_type": "code",
   "execution_count": 5,
   "id": "feb756ff-69cb-41b6-9354-dcc6329268af",
   "metadata": {},
   "outputs": [],
   "source": [
    "class WOPEN(Event): # Window opening event\n",
    "    def __init__(self, time1, time2):\n",
    "        self.t1 = time1\n",
    "        self.t2 = time2\n",
    "        self.name = \"W_OPEN\"\n",
    "    def action(self, queue, state):\n",
    "        state.set_window_close_time(self.t1 + self.t2)\n",
    "        state.update_time_parameters(self.t1) # I believe that, ideally, this shouldn't be done here; it should be maintained by EVENT Queue itself\n",
    "        queue.insert(WCLOSE(self.t1 + self.t2)) # set the window closing time\n",
    "        if state.current_window_state() == 0: # if the window is closed, open it and schedule the customers \n",
    "            state.open_window()\n",
    "            if(state.get_waiting_customers() > 0 and  state.waiting_queue[0][0] <= self.t1):\n",
    "                queue.insert(SERVE(self.t1 + DELAY, state.waiting_queue[0][1]))\n",
    "        elif state.current_window_state() == 2: # window is busy\n",
    "            # I assumed that an open event doesn't invoke an action on a window that is closed or busy\n",
    "            # If this is not the case in your assumption, then it is here the place where you should account for your assunmption\n",
    "            pass\n",
    "        else: # window is open already\n",
    "            pass"
   ]
  },
  {
   "cell_type": "markdown",
   "id": "4181e8ca",
   "metadata": {},
   "source": [
    "The SERVE class, inherits from Event. It represents the internal event of serving a customer"
   ]
  },
  {
   "cell_type": "code",
   "execution_count": 6,
   "id": "9dbf7bba",
   "metadata": {},
   "outputs": [],
   "source": [
    "class SERVE(Event):\n",
    "    def __init__(self, time1, time2):\n",
    "        self.t1 = time1\n",
    "        self.t2 = time2\n",
    "        self.name = \"SERVE\"\n",
    "    def action(self, queue, state):\n",
    "        state.set_current_job_finish_time(self.t1 + self.t2)\n",
    "        state.update_time_parameters(self.t1)\n",
    "        state.remove_customer() # remove the customer from the queue and take him in, making the window busy\n",
    "        state.busy_window()\n",
    "        queue.insert(WFREE(self.t1 + self.t2, state.get_window_close_time() - (self.t1 + self.t2)))"
   ]
  },
  {
   "cell_type": "markdown",
   "id": "2152ce25-06de-4364-a00e-66bcaadfed28",
   "metadata": {},
   "source": [
    "The window-closing event\n",
    "We don't know for how long the window is to be closed, so we assume it will be closed for an arbitrarily long amount of time MAX_TIME"
   ]
  },
  {
   "cell_type": "code",
   "execution_count": 7,
   "id": "3948e3ca-1c6e-47ba-bc6c-77e29b22f69b",
   "metadata": {},
   "outputs": [],
   "source": [
    "class WCLOSE(Event):\n",
    "    def __init__(self, time1):\n",
    "        self.t1 = time1\n",
    "        self.t2 = MAX_TIME\n",
    "        self.name = \"W_CLOSE\"\n",
    "    def action(self, queue, state):\n",
    "        if state.current_window_state() == 2: # if the window is currently busy serving a customer, then continue to serve him until he is finished\n",
    "            closing_time = state.get_current_job_finish_time()\n",
    "            queue.insert(WCLOSE(closing_time))\n",
    "        else: # if no customer is being served, just close the window\n",
    "            state.close_window()\n",
    "    def __str__(self): # This overrides the function inherited from the EVENT class\n",
    "        return self.name + \"(\" + str(self.t1) + \")\""
   ]
  },
  {
   "cell_type": "markdown",
   "id": "518e5f0e",
   "metadata": {},
   "source": [
    "The Free Window Event is shown.  \n",
    "This event represents the freeing of a window after a customer has been served.  \n",
    "This, in essence, is an internal event to open the window.\n",
    "  \n",
    "Why didn't we use the WOPEN event?  \n",
    "1- To signify the distiniction between the window opening due to an external event, and it being freed after having served a customer; opening due to an internal event.  \n",
    "2- For better maintainability and extensibility of the model later.\n",
    "\n",
    "The drawback, for the current time at least, is obviously that we added an additional event to our model.  \n",
    "At a first glance, one might think that the fewer events you have (i.e the lesser the number of transitions in the system), the simpler the model is.  \n",
    "This is indeed a valid thought; representing our system with a model with the fewest possible transitions, events and states should always be a goal.  \n",
    "Here, however, the model is not so complex, and the benefits mentioned above are worthy of that split."
   ]
  },
  {
   "cell_type": "code",
   "execution_count": 8,
   "id": "8bf54111",
   "metadata": {},
   "outputs": [],
   "source": [
    "class WFREE(Event):\n",
    "    def __init__(self, time1, time2):\n",
    "        self.t1 = time1\n",
    "        self.t2 = time2\n",
    "        self.name = \"W_FREE\"\n",
    "    def action(self, queue, state):\n",
    "        self.t2 = state.get_window_close_time()\n",
    "        state.open_window()\n",
    "\n",
    "        window_reopen_time = self.t1 # the time by which the window is supposed to reopen after serving the current customer; the time at which the window is free again\n",
    "\n",
    "        window_close_time = state.get_window_close_time() # the time at which the current window is supposed to close\n",
    "        # print(\"window_close_time = \", window_close_time, \", window_reopen_time = \", window_reopen_time)\n",
    "\n",
    "        next_window_opening_duration = window_close_time - window_reopen_time\n",
    "\n",
    "        if(next_window_opening_duration > 0):\n",
    "            if(state.get_waiting_customers() > 0 and  state.waiting_queue[0][0] <= self.t1):\n",
    "                queue.insert(SERVE(window_reopen_time + DELAY, state.waiting_queue[0][1]))\n",
    "            # queue.insert(WOPEN(window_reopen_time, next_window_opening_duration))\n",
    "            state.set_window_close_time(window_reopen_time + next_window_opening_duration)\n",
    "        else:\n",
    "            queue.insert(WCLOSE(window_reopen_time))\n",
    "            \n",
    "\n"
   ]
  },
  {
   "cell_type": "markdown",
   "id": "ddabddf8-afaf-4a53-8a15-059ce5a3fd38",
   "metadata": {},
   "source": [
    "The EventQueue is defined"
   ]
  },
  {
   "cell_type": "code",
   "execution_count": 9,
   "id": "263e0052-fa50-4c72-8847-eea9ac19e324",
   "metadata": {},
   "outputs": [],
   "source": [
    "class EventQueue:\n",
    "    def __init__(self):\n",
    "        self.q = []\n",
    "    def notempty(self):\n",
    "        return len(self.q) > 0\n",
    "    def remaining(self):\n",
    "        return len(self.q)\n",
    "    def insert(self, event):\n",
    "        heapq.heappush(self.q, event)\n",
    "    def next(self):\n",
    "        return heapq.heappop(self.q)"
   ]
  },
  {
   "cell_type": "markdown",
   "id": "2d4c4902-b2be-4b87-8629-6099c14ca2db",
   "metadata": {},
   "source": [
    "The main is shown below with a sample run"
   ]
  },
  {
   "cell_type": "code",
   "execution_count": 10,
   "id": "05be4ac7-6300-41b9-8bba-03ef21c942de",
   "metadata": {},
   "outputs": [
    {
     "name": "stdout",
     "output_type": "stream",
     "text": [
      "CUSTOMER(0, 2)\n",
      "0\n",
      "CUSTOMER(1, 1)\n",
      "0\n",
      "CUSTOMER(1.1, 3)\n",
      "0\n",
      "CUSTOMER(2, 1)\n",
      "0\n",
      "W_OPEN(2, 5)\n",
      "1\n",
      "SERVE(2, 2)\n",
      "2\n",
      "CUSTOMER(3, 1)\n",
      "2\n",
      "W_FREE(4, 3)\n",
      "1\n",
      "SERVE(4, 1)\n",
      "2\n",
      "W_FREE(5, 2)\n",
      "1\n",
      "SERVE(5, 3)\n",
      "2\n",
      "W_CLOSE(7)\n",
      "2\n",
      "W_FREE(8, -1)\n",
      "1\n",
      "W_CLOSE(8)\n",
      "0\n",
      "W_CLOSE(8)\n",
      "0\n",
      "W_OPEN(10, 5)\n",
      "1\n",
      "SERVE(10, 1)\n",
      "2\n",
      "W_FREE(11, 4)\n",
      "1\n",
      "SERVE(11, 1)\n",
      "2\n",
      "W_FREE(12, 3)\n",
      "1\n",
      "W_CLOSE(15)\n",
      "0\n",
      "Average Waiting Time = 6.580000\n"
     ]
    }
   ],
   "source": [
    "### MAIN\n",
    "\n",
    "Q = EventQueue()\n",
    "\n",
    "Q.insert( CUSTOMER(0,2) ) #a customer arrives at t=0 , and requires 2 t to finish his processing.\n",
    "Q.insert( CUSTOMER(1,1) ) \n",
    "Q.insert( CUSTOMER(1.1,3) ) \n",
    "Q.insert( WOPEN(2,5) )  # the window opens at 2 and closes after 5 t i.e closes at 7 or if it processes a customer then after the customer finishes.\n",
    "Q.insert( CUSTOMER(2,1) ) \n",
    "Q.insert( CUSTOMER(3,1) ) \n",
    "Q.insert( WOPEN(10,5) ) \n",
    "    \n",
    "S = State()\n",
    "\n",
    "# Processing events until the queue is Q is empty\n",
    "while Q.notempty():\n",
    "    e = Q.next()\n",
    "    print( e )\n",
    "    e.action(Q,S)\n",
    "    print(S.current_window_state())\n",
    "total_wait = S.get_total_waiting_time()\n",
    "total_customers = S.get_total_customers_served()\n",
    "result = total_wait/total_customers\n",
    "print(\"Average Waiting Time = %f\" %result)"
   ]
  }
 ],
 "metadata": {
  "kernelspec": {
   "display_name": "Python 3 (ipykernel)",
   "language": "python",
   "name": "python3"
  },
  "language_info": {
   "codemirror_mode": {
    "name": "ipython",
    "version": 3
   },
   "file_extension": ".py",
   "mimetype": "text/x-python",
   "name": "python",
   "nbconvert_exporter": "python",
   "pygments_lexer": "ipython3",
   "version": "3.8.6"
  }
 },
 "nbformat": 4,
 "nbformat_minor": 5
}
